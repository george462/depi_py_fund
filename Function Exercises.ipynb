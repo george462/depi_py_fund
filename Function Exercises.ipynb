{
 "cells": [
  {
   "metadata": {},
   "cell_type": "markdown",
   "source": [
    "### Level 2 answers \n",
    "### 1"
   ],
   "id": "ddf2475d3c94665"
  },
  {
   "cell_type": "code",
   "id": "initial_id",
   "metadata": {
    "collapsed": true,
    "ExecuteTime": {
     "end_time": "2024-11-17T21:18:11.322573Z",
     "start_time": "2024-11-17T21:18:11.316301Z"
    }
   },
   "source": [
    "colors = [\"red\", \"green\", \"blue\"]\n",
    "\n",
    "\n",
    "def capitalize_list_items(x):\n",
    "    for p in range(len(x)):\n",
    "        x[p] = x[p].capitalize()\n",
    "    return x\n",
    "\n",
    "\n",
    "capitalize_list_items(colors)"
   ],
   "outputs": [
    {
     "data": {
      "text/plain": [
       "['Red', 'Green', 'Blue']"
      ]
     },
     "execution_count": 11,
     "metadata": {},
     "output_type": "execute_result"
    }
   ],
   "execution_count": 11
  },
  {
   "metadata": {},
   "cell_type": "markdown",
   "source": "### 2\n",
   "id": "11074c733137e834"
  },
  {
   "metadata": {
    "ExecuteTime": {
     "end_time": "2024-11-17T21:16:00.016990Z",
     "start_time": "2024-11-17T21:16:00.011204Z"
    }
   },
   "cell_type": "code",
   "source": [
    "li = [1, 2, 3]\n",
    "c = 7\n",
    "\n",
    "\n",
    "def add_item(l, item):\n",
    "    l.append(item)\n",
    "    return l\n",
    "\n",
    "\n",
    "add_item(li, c)"
   ],
   "id": "197a9aeb360b8b3c",
   "outputs": [
    {
     "data": {
      "text/plain": [
       "[1, 2, 3, 7]"
      ]
     },
     "execution_count": 2,
     "metadata": {},
     "output_type": "execute_result"
    }
   ],
   "execution_count": 2
  },
  {
   "metadata": {},
   "cell_type": "markdown",
   "source": "### 3",
   "id": "6736b9c0eaa1418c"
  },
  {
   "metadata": {
    "ExecuteTime": {
     "end_time": "2024-11-17T21:17:28.041755Z",
     "start_time": "2024-11-17T21:17:28.035865Z"
    }
   },
   "cell_type": "code",
   "source": [
    "li = [1, 2, 3]\n",
    "def reverse_list(l):\n",
    "    reversed_list = []\n",
    "    for n in l:\n",
    "        reversed_list.insert(0,n)\n",
    "    return reversed_list\n",
    "reverse_list(li)              "
   ],
   "id": "f105c8f8edb8be86",
   "outputs": [
    {
     "data": {
      "text/plain": [
       "[3, 2, 1]"
      ]
     },
     "execution_count": 8,
     "metadata": {},
     "output_type": "execute_result"
    }
   ],
   "execution_count": 8
  },
  {
   "metadata": {},
   "cell_type": "markdown",
   "source": "### 4",
   "id": "ab7ef5ba097586cb"
  },
  {
   "metadata": {
    "ExecuteTime": {
     "end_time": "2024-11-17T21:18:43.695312Z",
     "start_time": "2024-11-17T21:18:43.689767Z"
    }
   },
   "cell_type": "code",
   "source": [
    "i = 100\n",
    "def evens_and_odds(r):\n",
    "    even=0\n",
    "    odd=0\n",
    "    for j in range(r+1):\n",
    "        if j % 2 == 0:\n",
    "            even += 1\n",
    "        else:\n",
    "            odd += 1\n",
    "    return even, odd\n",
    "evens_and_odds(i)           "
   ],
   "id": "2343d11d62831b4b",
   "outputs": [
    {
     "data": {
      "text/plain": [
       "(51, 50)"
      ]
     },
     "execution_count": 12,
     "metadata": {},
     "output_type": "execute_result"
    }
   ],
   "execution_count": 12
  },
  {
   "metadata": {},
   "cell_type": "markdown",
   "source": "### 5",
   "id": "69228235b626e819"
  },
  {
   "metadata": {
    "ExecuteTime": {
     "end_time": "2024-11-17T21:25:29.307736Z",
     "start_time": "2024-11-17T21:25:29.301379Z"
    }
   },
   "cell_type": "code",
   "source": [
    "li = [1, 2, 3, 4, 5, 6, 7, 8, 9, 5, 3, 5]\n",
    "def calculate_mean(li):\n",
    "    t = sum(li)\n",
    "    mean = t/len(li)\n",
    "    return mean\n",
    "print(calculate_mean(li))\n",
    "\n",
    "def calculate_median(lis):\n",
    "    sorted_list = sorted(lis)\n",
    "    l = len(lis)\n",
    "    if l % 2 == 0:\n",
    "        median = (sorted_list[l//2]+ sorted_list[(l//2)-1])/2\n",
    "    else:\n",
    "        median = sorted_list[l//2]\n",
    "    return median\n",
    "print(calculate_median(li))\n",
    "\n",
    "def calculate_mode(li):\n",
    "    d = dict()\n",
    "    s = set(li)\n",
    "    for i in s:\n",
    "        for j in li:\n",
    "            if i == j:\n",
    "                d[i]=li.count(j)\n",
    "    x = max(d.values())\n",
    "    for i in d:\n",
    "        if d[i] == x:\n",
    "            mode = int(i)\n",
    "    return mode\n",
    "print(calculate_mode(li))"
   ],
   "id": "d56b60d4a1eeb388",
   "outputs": [
    {
     "name": "stdout",
     "output_type": "stream",
     "text": [
      "4.833333333333333\n",
      "5.0\n",
      "5\n"
     ]
    }
   ],
   "execution_count": 17
  },
  {
   "metadata": {},
   "cell_type": "markdown",
   "source": "### 6",
   "id": "2bf82408c894454a"
  },
  {
   "metadata": {},
   "cell_type": "code",
   "outputs": [],
   "execution_count": null,
   "source": [
    "H = [1, 2, 3, 4, 5, 6, 7, 8, 9, 5, 3, 5]\n",
    "def print_list(l):\n",
    "    for i in l:\n",
    "        print(i)\n",
    "print_list(H)"
   ],
   "id": "192f7b054c339131"
  },
  {
   "metadata": {},
   "cell_type": "markdown",
   "source": [
    "### Level 3 answers\n",
    "### 1"
   ],
   "id": "a43a664c8c76607b"
  },
  {
   "metadata": {
    "ExecuteTime": {
     "end_time": "2024-11-17T21:27:32.279430Z",
     "start_time": "2024-11-17T21:27:25.457032Z"
    }
   },
   "cell_type": "code",
   "source": [
    "x = int(input(\"Enter a number: \"))\n",
    "def is_prime(num):\n",
    "    c = 0\n",
    "    if num ==1 :\n",
    "        print(\"one is unique number \")\n",
    "    elif num == 0 or num < 0:\n",
    "        print(\"please enter a positive number\")\n",
    "    else :\n",
    "        for i in range(1, num):\n",
    "            if num % i == 0:\n",
    "                c += 1\n",
    "        if c >= 2:\n",
    "            return False\n",
    "        else:\n",
    "            return True\n",
    "\n",
    "\n",
    "print(is_prime(x))\n"
   ],
   "id": "e7bca45d2999301d",
   "outputs": [
    {
     "name": "stdout",
     "output_type": "stream",
     "text": [
      "False\n"
     ]
    }
   ],
   "execution_count": 18
  },
  {
   "metadata": {},
   "cell_type": "markdown",
   "source": "### 2",
   "id": "4024bfd1bcfbbb9"
  },
  {
   "metadata": {
    "ExecuteTime": {
     "end_time": "2024-11-17T21:30:13.562982Z",
     "start_time": "2024-11-17T21:30:13.558455Z"
    }
   },
   "cell_type": "code",
   "source": [
    "Test = [1, 2, 3,3]\n",
    "def is_unique(l):\n",
    "    list2 = l\n",
    "    flag =True\n",
    "    for i in l:\n",
    "        count = 0\n",
    "        for j in list2:\n",
    "            if i == j:\n",
    "                count += 1\n",
    "                if count == 2 :\n",
    "                    flag =False\n",
    "                    break\n",
    "    return flag                                \n",
    "print(is_unique(Test))"
   ],
   "id": "fd3065002667be65",
   "outputs": [
    {
     "name": "stdout",
     "output_type": "stream",
     "text": [
      "False\n"
     ]
    }
   ],
   "execution_count": 65
  },
  {
   "metadata": {},
   "cell_type": "markdown",
   "source": "### 4",
   "id": "32102ca9e0a910c1"
  },
  {
   "metadata": {
    "ExecuteTime": {
     "end_time": "2024-11-17T21:31:11.137970Z",
     "start_time": "2024-11-17T21:31:11.132989Z"
    }
   },
   "cell_type": "code",
   "source": [
    "Test = [1, 2, 3, 4, 5,\"p\"]\n",
    "def one_data_type(l):\n",
    "    type_list = []\n",
    "    for i in l:\n",
    "        type_list.append(str(type(i)))\n",
    "    s = set(type_list)\n",
    "    if len(s) == 1:\n",
    "        return True\n",
    "    else:\n",
    "        return False\n",
    "\n",
    "print(one_data_type(Test))        "
   ],
   "id": "8167755fd5b2178f",
   "outputs": [
    {
     "name": "stdout",
     "output_type": "stream",
     "text": [
      "False\n"
     ]
    }
   ],
   "execution_count": 69
  },
  {
   "metadata": {},
   "cell_type": "markdown",
   "source": "### 4",
   "id": "c125dfd6ef54365f"
  },
  {
   "metadata": {
    "ExecuteTime": {
     "end_time": "2024-11-17T21:32:10.843983Z",
     "start_time": "2024-11-17T21:32:05.131456Z"
    }
   },
   "cell_type": "code",
   "source": [
    "import keyword \n",
    "\n",
    "x = input(\"Enter the variable name: \")\n",
    "def Check_Validity(x):\n",
    "    flag = True\n",
    "    # check if it is a keyword\n",
    "    for i in keyword.kwlist:\n",
    "        if x == i:\n",
    "            flag = False\n",
    "            break\n",
    "    #check starting\n",
    "    if x[0].isalpha() == False and x[0]!=\"_\":\n",
    "        flag = False \n",
    "    #check spaces and symbols\n",
    "    for i in x:\n",
    "        if i.isalpha() == False and i!=\"_\" and i.isdigit() == False  :\n",
    "            flag = False\n",
    "            break\n",
    "    return flag\n",
    "print(Check_Validity(x))\n"
   ],
   "id": "8f3f6604a5d98420",
   "outputs": [
    {
     "name": "stdout",
     "output_type": "stream",
     "text": [
      "True\n"
     ]
    }
   ],
   "execution_count": 75
  }
 ],
 "metadata": {
  "kernelspec": {
   "display_name": "Python 3",
   "language": "python",
   "name": "python3"
  },
  "language_info": {
   "codemirror_mode": {
    "name": "ipython",
    "version": 2
   },
   "file_extension": ".py",
   "mimetype": "text/x-python",
   "name": "python",
   "nbconvert_exporter": "python",
   "pygments_lexer": "ipython2",
   "version": "2.7.6"
  }
 },
 "nbformat": 4,
 "nbformat_minor": 5
}
